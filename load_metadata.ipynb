{
 "cells": [
  {
   "cell_type": "markdown",
   "metadata": {},
   "source": [
    "# Loading data into Elasticsearch"
   ]
  },
  {
   "cell_type": "markdown",
   "metadata": {},
   "source": [
    "Welcome! Hopefully you are reading this with elasticsearch running successfully by using the docker-compose.yml. If you are not and are running elasticsearch on a different service or host, you will want to change the following code. This gets the hostname for the elasticsearch server from the environment variable set in the docker-compose.yml. Change ES_HOSTNAME to point to your own ES if you need to.\n",
    "\n",
    "_Start at the top of this file and step through it by clicking on the \">|  Run\" button above. Make sure that each \"cell\" completes and doesn't throw any errors._"
   ]
  },
  {
   "cell_type": "code",
   "execution_count": 1,
   "metadata": {},
   "outputs": [
    {
     "name": "stdout",
     "output_type": "stream",
     "text": [
      "Downloaded 23.81989097595215MB\n"
     ]
    }
   ],
   "source": [
    "import os\n",
    "ES_HOSTNAME = os.getenv(\"ES_HOSTNAME\")\n",
    "\n",
    "# Now, we need to go get some data to index. Let's start with a metadata dataset that includes details\n",
    "# of all the books scanned in as part of the Microsoft Digitisation project at the British Library\n",
    "# (From https://github.com/BL-Labs/imagedirectory/blob/master/book_metadata.json)\n",
    "\n",
    "# This is a big file, so we will save it as it is downloaded:\n",
    "\n",
    "import requests\n",
    "\n",
    "url = \"https://raw.githubusercontent.com/BL-Labs/imagedirectory/master/book_metadata.json\"\n",
    "\n",
    "r = requests.get(url, stream = True) # Setting 'stream' to True is crucial.\n",
    "\n",
    "size = 0\n",
    "# Adding a check to see if you've already downloaded the file and skipping that step\n",
    "# Remove the \"book_data.json\" file if you wish this to download it again.\n",
    "if not os.path.isfile(\"book_data.json\"):\n",
    "    with open(\"book_data.json\", \"wb\") as book_fp:\n",
    "        for chunk in r.iter_content(chunk_size=1024):\n",
    "            if chunk: # filter out keep-alive new chunks\n",
    "                book_fp.write(chunk)\n",
    "                size += len(chunk)\n",
    "\n",
    "    print(\"Downloaded {0}MB\".format(size / (1024 * 1024)))\n",
    "else:\n",
    "    print(\"Already got it!\")"
   ]
  },
  {
   "cell_type": "markdown",
   "metadata": {},
   "source": [
    "Great! We (hopefully) have metadata in this JSON file and an elasticsearch instance into which we can index it! Let's get that setup now!"
   ]
  },
  {
   "cell_type": "code",
   "execution_count": 2,
   "metadata": {},
   "outputs": [
    {
     "data": {
      "text/plain": [
       "True"
      ]
     },
     "execution_count": 2,
     "metadata": {},
     "output_type": "execute_result"
    }
   ],
   "source": [
    "from elasticsearch import Elasticsearch, helpers\n",
    "\n",
    "es = Elasticsearch(ES_HOSTNAME)\n",
    "# Do we have a connection?\n",
    "es.ping()"
   ]
  },
  {
   "cell_type": "markdown",
   "metadata": {},
   "source": [
    "Time to load the book metadata and have a look at what a typical record looks like:"
   ]
  },
  {
   "cell_type": "code",
   "execution_count": 3,
   "metadata": {},
   "outputs": [
    {
     "name": "stdout",
     "output_type": "stream",
     "text": [
      "{\n",
      "    \"datefield\": \"[1888]\",\n",
      "    \"shelfmarks\": [\n",
      "        \"British Library HMNTS 10347.cc.13.(4.)\"\n",
      "    ],\n",
      "    \"flickr_url_to_book_images\": \"http://www.flickr.com/photos/britishlibrary/tags/sysnum000000037\",\n",
      "    \"publisher\": \"A. Heywood & Son\",\n",
      "    \"edition\": \"\",\n",
      "    \"place\": \"Manchester\",\n",
      "    \"issuance\": \"monographic\",\n",
      "    \"authors\": {},\n",
      "    \"date\": \"1888\",\n",
      "    \"title\": [\n",
      "        \"A Gossip about Old Manchester. With illustrations. [Signed: A.]\"\n",
      "    ],\n",
      "    \"identifier\": \"000000037\",\n",
      "    \"corporate\": {}\n",
      "}\n"
     ]
    }
   ],
   "source": [
    "import json\n",
    "\n",
    "with open(\"book_data.json\", \"r\") as bkfile:\n",
    "    bookmd = json.load(bkfile)\n",
    "\n",
    "print(json.dumps(bookmd[0], indent=4))"
   ]
  },
  {
   "cell_type": "markdown",
   "metadata": {},
   "source": [
    "Elasticsearch expects records to have a few fields like \"\\_type\" and \"\\_index\" to collate the data we send it. The following will create an index in elasticsearch and provides a generator that takes the book data and generates suitable records for it to index."
   ]
  },
  {
   "cell_type": "code",
   "execution_count": 6,
   "metadata": {},
   "outputs": [
    {
     "data": {
      "text/plain": [
       "{'acknowledged': True, 'shards_acknowledged': True, 'index': 'bookmd'}"
      ]
     },
     "execution_count": 6,
     "metadata": {},
     "output_type": "execute_result"
    }
   ],
   "source": [
    "es.indices.create(\"bookmd\")\n",
    "\n"
   ]
  },
  {
   "cell_type": "code",
   "execution_count": 7,
   "metadata": {},
   "outputs": [
    {
     "data": {
      "text/plain": [
       "{'_type': 'book',\n",
       " '_index': 'bookmd',\n",
       " '_source': {'datefield': '[1888]',\n",
       "  'shelfmarks': ['British Library HMNTS 10347.cc.13.(4.)'],\n",
       "  'flickr_url_to_book_images': 'http://www.flickr.com/photos/britishlibrary/tags/sysnum000000037',\n",
       "  'publisher': 'A. Heywood & Son',\n",
       "  'edition': '',\n",
       "  'place': 'Manchester',\n",
       "  'issuance': 'monographic',\n",
       "  'authors': {},\n",
       "  'date': '1888',\n",
       "  'title': ['A Gossip about Old Manchester. With illustrations. [Signed: A.]'],\n",
       "  'identifier': '000000037',\n",
       "  'corporate': {}}}"
      ]
     },
     "execution_count": 7,
     "metadata": {},
     "output_type": "execute_result"
    }
   ],
   "source": [
    "md_gen = ({\"_type\": \"book\", \"_index\": \"bookmd\", \"_source\": record} for record in bookmd)\n",
    "\n",
    "# test it out?\n",
    "md_gen.__next__()"
   ]
  },
  {
   "cell_type": "markdown",
   "metadata": {},
   "source": [
    "Great, seem to work. Now to put this into elasticsearch. Warning, the following could take time if this is running on a slow system!"
   ]
  },
  {
   "cell_type": "code",
   "execution_count": 8,
   "metadata": {},
   "outputs": [
    {
     "data": {
      "text/plain": [
       "(49509, [])"
      ]
     },
     "execution_count": 8,
     "metadata": {},
     "output_type": "execute_result"
    }
   ],
   "source": [
    "# recreate the generator so we get all the records in:\n",
    "md_gen = ({\"_type\": \"book\", \"_index\": \"bookmd\", \"_source\": record} for record in bookmd)\n",
    "\n",
    "# Using the Elasticsearch-py bulk helper here:\n",
    "helpers.bulk(es, md_gen)"
   ]
  },
  {
   "cell_type": "markdown",
   "metadata": {},
   "source": [
    "Ingested? Let's see what we get:"
   ]
  },
  {
   "cell_type": "code",
   "execution_count": 9,
   "metadata": {},
   "outputs": [
    {
     "data": {
      "text/plain": [
       "{'count': 49509,\n",
       " '_shards': {'total': 5, 'successful': 5, 'skipped': 0, 'failed': 0}}"
      ]
     },
     "execution_count": 9,
     "metadata": {},
     "output_type": "execute_result"
    }
   ],
   "source": [
    "es.count(index=\"bookmd\")"
   ]
  },
  {
   "cell_type": "markdown",
   "metadata": {},
   "source": [
    "49k records loaded. Now to query it. Wonder if any of these books were published in London in 1885?"
   ]
  },
  {
   "cell_type": "code",
   "execution_count": 10,
   "metadata": {},
   "outputs": [
    {
     "name": "stdout",
     "output_type": "stream",
     "text": [
      "{\n",
      "    \"took\": 67,\n",
      "    \"timed_out\": false,\n",
      "    \"_shards\": {\n",
      "        \"total\": 5,\n",
      "        \"successful\": 5,\n",
      "        \"skipped\": 0,\n",
      "        \"failed\": 0\n",
      "    },\n",
      "    \"hits\": {\n",
      "        \"total\": 428,\n",
      "        \"max_score\": 4.9648094,\n",
      "        \"hits\": [\n",
      "            {\n",
      "                \"_index\": \"bookmd\",\n",
      "                \"_type\": \"book\",\n",
      "                \"_id\": \"jhjOA2QBJxh6vfXFFiRS\",\n",
      "                \"_score\": 4.9648094,\n",
      "                \"_source\": {\n",
      "                    \"datefield\": \"1885\",\n",
      "                    \"shelfmarks\": [\n",
      "                        \"British Library HMNTS 11649.gg.1.\"\n",
      "                    ],\n",
      "                    \"flickr_url_to_book_images\": \"http://www.flickr.com/photos/britishlibrary/tags/sysnum000119643\",\n",
      "                    \"publisher\": \"Macmillan & Co.\",\n",
      "                    \"edition\": \"[Another edition.]\",\n",
      "                    \"place\": \"London\",\n",
      "                    \"issuance\": \"monographic\",\n",
      "                    \"authors\": {\n",
      "                        \"creator\": [\n",
      "                            \"Arnold, Matthew\"\n",
      "                        ]\n",
      "                    },\n",
      "                    \"date\": \"1885\",\n",
      "                    \"title\": [\n",
      "                        \"[Poems.]\",\n",
      "                        \"Collected Poems\"\n",
      "                    ],\n",
      "                    \"identifier\": \"000119643\",\n",
      "                    \"corporate\": {}\n",
      "                }\n",
      "            },\n",
      "            {\n",
      "                \"_index\": \"bookmd\",\n",
      "                \"_type\": \"book\",\n",
      "                \"_id\": \"4hjOA2QBJxh6vfXFFiST\",\n",
      "                \"_score\": 4.9648094,\n",
      "                \"_source\": {\n",
      "                    \"datefield\": \"1885\",\n",
      "                    \"shelfmarks\": [\n",
      "                        \"British Library HMNTS 10007.c.30.\"\n",
      "                    ],\n",
      "                    \"flickr_url_to_book_images\": \"http://www.flickr.com/photos/britishlibrary/tags/sysnum000125528\",\n",
      "                    \"publisher\": \"Burns & Oates\",\n",
      "                    \"edition\": \"\",\n",
      "                    \"place\": \"London\",\n",
      "                    \"issuance\": \"monographic\",\n",
      "                    \"authors\": {\n",
      "                        \"creator\": [\n",
      "                            \"ARUNDELL, John Francis - Baron Arundell of Wardour\"\n",
      "                        ]\n",
      "                    },\n",
      "                    \"date\": \"1885\",\n",
      "                    \"title\": [\n",
      "                        \"The Secret of Plato's Atlantis\"\n",
      "                    ],\n",
      "                    \"identifier\": \"000125528\",\n",
      "                    \"corporate\": {}\n",
      "                }\n",
      "            }\n",
      "        ]\n",
      "    }\n",
      "}\n"
     ]
    }
   ],
   "source": [
    "# Use the lucene style of querying (more complex means of querying this is possible! See Elasticsearch's Query DSL)\n",
    "# return just 2 hits:\n",
    "\n",
    "results = es.search(index=\"bookmd\", \n",
    "                    q=\"place:London AND datefield:1885\",\n",
    "                    size=2)\n",
    "\n",
    "print(json.dumps(results, indent=4))"
   ]
  },
  {
   "cell_type": "markdown",
   "metadata": {},
   "source": [
    "Congratulations! You now have a search engine full of book metadata to query!"
   ]
  },
  {
   "cell_type": "code",
   "execution_count": 13,
   "metadata": {},
   "outputs": [
    {
     "name": "stdout",
     "output_type": "stream",
     "text": [
      "['Atlantis Arisen; or, talks of a tourist about Oregon and Washington ... Illustrated']\n",
      "1891\n",
      "003786719\n",
      "http://www.flickr.com/photos/britishlibrary/tags/sysnum003786719\n"
     ]
    }
   ],
   "source": [
    "results = es.search(index=\"bookmd\", \n",
    "                    q=\"title:Atlantis Arisen\",\n",
    "                    size=2)\n",
    "\n",
    "first_hit = results['hits']['hits'][0]['_source']\n",
    "\n",
    "print(first_hit['title'])\n",
    "print(first_hit['datefield'])\n",
    "print(first_hit['identifier'])\n",
    "print(first_hit['flickr_url_to_book_images'])"
   ]
  },
  {
   "cell_type": "code",
   "execution_count": null,
   "metadata": {},
   "outputs": [],
   "source": []
  }
 ],
 "metadata": {
  "kernelspec": {
   "display_name": "Python 3",
   "language": "python",
   "name": "python3"
  },
  "language_info": {
   "codemirror_mode": {
    "name": "ipython",
    "version": 3
   },
   "file_extension": ".py",
   "mimetype": "text/x-python",
   "name": "python",
   "nbconvert_exporter": "python",
   "pygments_lexer": "ipython3",
   "version": "3.6.5"
  }
 },
 "nbformat": 4,
 "nbformat_minor": 2
}
